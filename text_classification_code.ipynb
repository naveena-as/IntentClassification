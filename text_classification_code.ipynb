{
  "nbformat": 4,
  "nbformat_minor": 0,
  "metadata": {
    "colab": {
      "name": "text_classification_code.ipynb",
      "provenance": [],
      "collapsed_sections": [
        "8c-0lD3AUpjk",
        "iwE_jjXlYAMF",
        "HeMtojNdGzCp"
      ],
      "toc_visible": true
    },
    "kernelspec": {
      "name": "python3",
      "display_name": "Python 3"
    },
    "language_info": {
      "name": "python"
    }
  },
  "cells": [
    {
      "cell_type": "markdown",
      "metadata": {
        "id": "3B6dhWzGEFd8"
      },
      "source": [
        "### Topic : Intention Classification of Code Review Questions\n",
        "\n",
        "Reference : Research paper - \"Predicting Communicative Intention in Code Review Questions\"\n",
        "\n",
        "Link to the paper : https://www.google.com/url?sa=t&rct=j&q=&esrc=s&source=web&cd=&cad=rja&uact=8&ved=2ahUKEwjxqN_J_O3vAhUc7XMBHduvCcwQFjAAegQIAhAD&url=https%3A%2F%2Fwww.win.tue.nl%2F~aserebre%2FICSME2018NIER.pdf&usg=AOvVaw3wCsZN4EKvrFzuFFXUkQG6"
      ]
    },
    {
      "cell_type": "code",
      "metadata": {
        "id": "M5NMcJA8CrLQ"
      },
      "source": [
        "import pandas as pd\n",
        "import numpy as np"
      ],
      "execution_count": null,
      "outputs": []
    },
    {
      "cell_type": "code",
      "metadata": {
        "colab": {
          "base_uri": "https://localhost:8080/",
          "height": 206
        },
        "id": "tSDAVM1cDIor",
        "outputId": "5213765c-3138-41fe-c84a-6c5a7fdf6707"
      },
      "source": [
        "df = pd.read_excel(\"/content/sample_data/dataset.xlsx\")\n",
        "df.head()"
      ],
      "execution_count": null,
      "outputs": [
        {
          "output_type": "execute_result",
          "data": {
            "text/html": [
              "<div>\n",
              "<style scoped>\n",
              "    .dataframe tbody tr th:only-of-type {\n",
              "        vertical-align: middle;\n",
              "    }\n",
              "\n",
              "    .dataframe tbody tr th {\n",
              "        vertical-align: top;\n",
              "    }\n",
              "\n",
              "    .dataframe thead th {\n",
              "        text-align: right;\n",
              "    }\n",
              "</style>\n",
              "<table border=\"1\" class=\"dataframe\">\n",
              "  <thead>\n",
              "    <tr style=\"text-align: right;\">\n",
              "      <th></th>\n",
              "      <th>inline-comment-id</th>\n",
              "      <th># Comment</th>\n",
              "      <th>Question</th>\n",
              "      <th>Final Label</th>\n",
              "    </tr>\n",
              "  </thead>\n",
              "  <tbody>\n",
              "    <tr>\n",
              "      <th>0</th>\n",
              "      <td>84326dd1_566c7146</td>\n",
              "      <td>1</td>\n",
              "      <td>is this what they intended? don't they really ...</td>\n",
              "      <td>request for confirmation</td>\n",
              "    </tr>\n",
              "    <tr>\n",
              "      <th>1</th>\n",
              "      <td>84326dd1_566c7146</td>\n",
              "      <td>2</td>\n",
              "      <td>is this what they intended? don't they really ...</td>\n",
              "      <td>surprise</td>\n",
              "    </tr>\n",
              "    <tr>\n",
              "      <th>2</th>\n",
              "      <td>99d1f8e4_92b31cea</td>\n",
              "      <td>3</td>\n",
              "      <td>Don't we need to increment 'i' in the else cas...</td>\n",
              "      <td>suggestion</td>\n",
              "    </tr>\n",
              "    <tr>\n",
              "      <th>3</th>\n",
              "      <td>193d089f_f5fac752</td>\n",
              "      <td>4</td>\n",
              "      <td>i can't see anywhere where this is set to fals...</td>\n",
              "      <td>suggestion</td>\n",
              "    </tr>\n",
              "    <tr>\n",
              "      <th>4</th>\n",
              "      <td>50c2f81e_ac4fd6fc</td>\n",
              "      <td>5</td>\n",
              "      <td>are you sure you want to include this source f...</td>\n",
              "      <td>criticism</td>\n",
              "    </tr>\n",
              "  </tbody>\n",
              "</table>\n",
              "</div>"
            ],
            "text/plain": [
              "   inline-comment-id  ...               Final Label\n",
              "0  84326dd1_566c7146  ...  request for confirmation\n",
              "1  84326dd1_566c7146  ...                  surprise\n",
              "2  99d1f8e4_92b31cea  ...                suggestion\n",
              "3  193d089f_f5fac752  ...                suggestion\n",
              "4  50c2f81e_ac4fd6fc  ...                 criticism\n",
              "\n",
              "[5 rows x 4 columns]"
            ]
          },
          "metadata": {
            "tags": []
          },
          "execution_count": 39
        }
      ]
    },
    {
      "cell_type": "code",
      "metadata": {
        "colab": {
          "base_uri": "https://localhost:8080/"
        },
        "id": "3SQiaBZ7DNmp",
        "outputId": "8e0cc98a-6886-411e-a921-92f669364a72"
      },
      "source": [
        "df.shape"
      ],
      "execution_count": null,
      "outputs": [
        {
          "output_type": "execute_result",
          "data": {
            "text/plain": [
              "(499, 4)"
            ]
          },
          "metadata": {
            "tags": []
          },
          "execution_count": 40
        }
      ]
    },
    {
      "cell_type": "code",
      "metadata": {
        "colab": {
          "base_uri": "https://localhost:8080/"
        },
        "id": "2h_AkSYCDOxJ",
        "outputId": "31f2021b-7d39-4729-f44d-24e16dd2936c"
      },
      "source": [
        "df['Final Label'].unique()"
      ],
      "execution_count": null,
      "outputs": [
        {
          "output_type": "execute_result",
          "data": {
            "text/plain": [
              "array(['request for confirmation', 'surprise', 'suggestion', 'criticism',\n",
              "       'hypothetical scenario', 'request for action',\n",
              "       'request for clarification', 'request for information',\n",
              "       'request for opinion', 'rhetorical question', 'discarded',\n",
              "       'request for rationale', 'action', 'anger'], dtype=object)"
            ]
          },
          "metadata": {
            "tags": []
          },
          "execution_count": 41
        }
      ]
    },
    {
      "cell_type": "code",
      "metadata": {
        "colab": {
          "base_uri": "https://localhost:8080/"
        },
        "id": "F3bmJvzhF0Zy",
        "outputId": "6f9f9c2e-4609-4e61-ba75-f942f41f4973"
      },
      "source": [
        "len(df['Final Label'].unique())"
      ],
      "execution_count": null,
      "outputs": [
        {
          "output_type": "execute_result",
          "data": {
            "text/plain": [
              "14"
            ]
          },
          "metadata": {
            "tags": []
          },
          "execution_count": 42
        }
      ]
    },
    {
      "cell_type": "code",
      "metadata": {
        "colab": {
          "base_uri": "https://localhost:8080/"
        },
        "id": "b8eRdareEGFB",
        "outputId": "6dd3165d-be80-4bc5-8cb7-5ef7dd9cd9fa"
      },
      "source": [
        "df.isnull().sum()"
      ],
      "execution_count": null,
      "outputs": [
        {
          "output_type": "execute_result",
          "data": {
            "text/plain": [
              "inline-comment-id    0\n",
              "# Comment            0\n",
              "Question             0\n",
              "Final Label          0\n",
              "dtype: int64"
            ]
          },
          "metadata": {
            "tags": []
          },
          "execution_count": 43
        }
      ]
    },
    {
      "cell_type": "code",
      "metadata": {
        "colab": {
          "base_uri": "https://localhost:8080/"
        },
        "id": "y7SC2hpjN1hz",
        "outputId": "299037f8-a5c7-422a-f43f-901f0ac75035"
      },
      "source": [
        "# converting the labels belonging to subgroups into their parent group\n",
        "df['New Label'] = df['Final Label']\n",
        "for i in range(len(df)):\n",
        "  if df['New Label'][i].startswith('request'):\n",
        "    df['New Label'][i] = 'requests'\n",
        "  elif df['New Label'][i] == 'criticism' or df['New Label'][i] == 'anger' or df['New Label'][i] == 'surprise':\n",
        "    df['New Label'][i] = 'attitudes and emotions'\n",
        "df['New Label'].unique()"
      ],
      "execution_count": null,
      "outputs": [
        {
          "output_type": "stream",
          "text": [
            "/usr/local/lib/python3.7/dist-packages/ipykernel_launcher.py:5: SettingWithCopyWarning: \n",
            "A value is trying to be set on a copy of a slice from a DataFrame\n",
            "\n",
            "See the caveats in the documentation: https://pandas.pydata.org/pandas-docs/stable/user_guide/indexing.html#returning-a-view-versus-a-copy\n",
            "  \"\"\"\n",
            "/usr/local/lib/python3.7/dist-packages/ipykernel_launcher.py:7: SettingWithCopyWarning: \n",
            "A value is trying to be set on a copy of a slice from a DataFrame\n",
            "\n",
            "See the caveats in the documentation: https://pandas.pydata.org/pandas-docs/stable/user_guide/indexing.html#returning-a-view-versus-a-copy\n",
            "  import sys\n"
          ],
          "name": "stderr"
        },
        {
          "output_type": "execute_result",
          "data": {
            "text/plain": [
              "array(['requests', 'attitudes and emotions', 'suggestion',\n",
              "       'hypothetical scenario', 'rhetorical question', 'discarded',\n",
              "       'action'], dtype=object)"
            ]
          },
          "metadata": {
            "tags": []
          },
          "execution_count": 44
        }
      ]
    },
    {
      "cell_type": "code",
      "metadata": {
        "colab": {
          "base_uri": "https://localhost:8080/"
        },
        "id": "_KX95uREUqLb",
        "outputId": "77dc3cd9-deb3-41cd-cdb9-b89a7f4c54bc"
      },
      "source": [
        "# grouping the additional two groups into a similar class\n",
        "for i in range(len(df)):\n",
        "  if df['New Label'][i] == 'action' or df['New Label'][i] == 'discarded':\n",
        "    df['New Label'][i] = 'attitudes and emotions'\n",
        "df['New Label'].unique()"
      ],
      "execution_count": null,
      "outputs": [
        {
          "output_type": "stream",
          "text": [
            "/usr/local/lib/python3.7/dist-packages/ipykernel_launcher.py:4: SettingWithCopyWarning: \n",
            "A value is trying to be set on a copy of a slice from a DataFrame\n",
            "\n",
            "See the caveats in the documentation: https://pandas.pydata.org/pandas-docs/stable/user_guide/indexing.html#returning-a-view-versus-a-copy\n",
            "  after removing the cwd from sys.path.\n"
          ],
          "name": "stderr"
        },
        {
          "output_type": "execute_result",
          "data": {
            "text/plain": [
              "array(['requests', 'attitudes and emotions', 'suggestion',\n",
              "       'hypothetical scenario', 'rhetorical question'], dtype=object)"
            ]
          },
          "metadata": {
            "tags": []
          },
          "execution_count": 45
        }
      ]
    },
    {
      "cell_type": "code",
      "metadata": {
        "colab": {
          "base_uri": "https://localhost:8080/"
        },
        "id": "vzH2vdIZP36L",
        "outputId": "90995d60-3198-4b4b-f51f-a96dc1fe0add"
      },
      "source": [
        " import nltk\n",
        " nltk.download('stopwords')\n",
        " nltk.download('wordnet')\n",
        "!pip install contractions"
      ],
      "execution_count": null,
      "outputs": [
        {
          "output_type": "stream",
          "text": [
            "[nltk_data] Downloading package punkt to /root/nltk_data...\n",
            "[nltk_data]   Unzipping tokenizers/punkt.zip.\n",
            "[nltk_data] Downloading package stopwords to /root/nltk_data...\n",
            "[nltk_data]   Unzipping corpora/stopwords.zip.\n",
            "[nltk_data] Downloading package wordnet to /root/nltk_data...\n",
            "[nltk_data]   Unzipping corpora/wordnet.zip.\n",
            "Collecting contractions\n",
            "  Downloading https://files.pythonhosted.org/packages/0a/04/d5e0bb9f2cef5d15616ebf68087a725c5dbdd71bd422bcfb35d709f98ce7/contractions-0.0.48-py2.py3-none-any.whl\n",
            "Collecting textsearch>=0.0.21\n",
            "  Downloading https://files.pythonhosted.org/packages/d3/fe/021d7d76961b5ceb9f8d022c4138461d83beff36c3938dc424586085e559/textsearch-0.0.21-py2.py3-none-any.whl\n",
            "Collecting anyascii\n",
            "\u001b[?25l  Downloading https://files.pythonhosted.org/packages/09/c7/61370d9e3c349478e89a5554c1e5d9658e1e3116cc4f2528f568909ebdf1/anyascii-0.1.7-py3-none-any.whl (260kB)\n",
            "\u001b[K     |████████████████████████████████| 266kB 6.8MB/s \n",
            "\u001b[?25hCollecting pyahocorasick\n",
            "\u001b[?25l  Downloading https://files.pythonhosted.org/packages/7f/c2/eae730037ae1cbbfaa229d27030d1d5e34a1e41114b21447d1202ae9c220/pyahocorasick-1.4.2.tar.gz (321kB)\n",
            "\u001b[K     |████████████████████████████████| 327kB 10.7MB/s \n",
            "\u001b[?25hBuilding wheels for collected packages: pyahocorasick\n",
            "  Building wheel for pyahocorasick (setup.py) ... \u001b[?25l\u001b[?25hdone\n",
            "  Created wheel for pyahocorasick: filename=pyahocorasick-1.4.2-cp37-cp37m-linux_x86_64.whl size=85393 sha256=9b80b154adebc73fb25c915660e241b0c80201ec9ee0ab03e9b7e49b3c92a646\n",
            "  Stored in directory: /root/.cache/pip/wheels/3a/03/34/77e3ece0bba8b86bfac88a79f923b36d805cad63caeba38842\n",
            "Successfully built pyahocorasick\n",
            "Installing collected packages: anyascii, pyahocorasick, textsearch, contractions\n",
            "Successfully installed anyascii-0.1.7 contractions-0.0.48 pyahocorasick-1.4.2 textsearch-0.0.21\n"
          ],
          "name": "stdout"
        }
      ]
    },
    {
      "cell_type": "code",
      "metadata": {
        "id": "44lrpeXHe7ao"
      },
      "source": [
        "import nltk\n",
        "from nltk.tokenize import word_tokenize\n",
        "from nltk.stem import WordNetLemmatizer\n",
        "from nltk.corpus import stopwords\n",
        "from keras.preprocessing.text import text_to_word_sequence\n",
        "import string\n",
        "import re"
      ],
      "execution_count": null,
      "outputs": []
    },
    {
      "cell_type": "code",
      "metadata": {
        "colab": {
          "base_uri": "https://localhost:8080/",
          "height": 206
        },
        "id": "WijFkUTOYzmF",
        "outputId": "1e234c4e-e827-4c70-959a-09ab5cd5a8f7"
      },
      "source": [
        "df.head()"
      ],
      "execution_count": null,
      "outputs": [
        {
          "output_type": "execute_result",
          "data": {
            "text/html": [
              "<div>\n",
              "<style scoped>\n",
              "    .dataframe tbody tr th:only-of-type {\n",
              "        vertical-align: middle;\n",
              "    }\n",
              "\n",
              "    .dataframe tbody tr th {\n",
              "        vertical-align: top;\n",
              "    }\n",
              "\n",
              "    .dataframe thead th {\n",
              "        text-align: right;\n",
              "    }\n",
              "</style>\n",
              "<table border=\"1\" class=\"dataframe\">\n",
              "  <thead>\n",
              "    <tr style=\"text-align: right;\">\n",
              "      <th></th>\n",
              "      <th>inline-comment-id</th>\n",
              "      <th># Comment</th>\n",
              "      <th>Question</th>\n",
              "      <th>Final Label</th>\n",
              "      <th>New Label</th>\n",
              "    </tr>\n",
              "  </thead>\n",
              "  <tbody>\n",
              "    <tr>\n",
              "      <th>0</th>\n",
              "      <td>84326dd1_566c7146</td>\n",
              "      <td>1</td>\n",
              "      <td>is this what they intended? don't they really ...</td>\n",
              "      <td>request for confirmation</td>\n",
              "      <td>requests</td>\n",
              "    </tr>\n",
              "    <tr>\n",
              "      <th>1</th>\n",
              "      <td>84326dd1_566c7146</td>\n",
              "      <td>2</td>\n",
              "      <td>is this what they intended? don't they really ...</td>\n",
              "      <td>surprise</td>\n",
              "      <td>attitudes and emotions</td>\n",
              "    </tr>\n",
              "    <tr>\n",
              "      <th>2</th>\n",
              "      <td>99d1f8e4_92b31cea</td>\n",
              "      <td>3</td>\n",
              "      <td>Don't we need to increment 'i' in the else cas...</td>\n",
              "      <td>suggestion</td>\n",
              "      <td>suggestion</td>\n",
              "    </tr>\n",
              "    <tr>\n",
              "      <th>3</th>\n",
              "      <td>193d089f_f5fac752</td>\n",
              "      <td>4</td>\n",
              "      <td>i can't see anywhere where this is set to fals...</td>\n",
              "      <td>suggestion</td>\n",
              "      <td>suggestion</td>\n",
              "    </tr>\n",
              "    <tr>\n",
              "      <th>4</th>\n",
              "      <td>50c2f81e_ac4fd6fc</td>\n",
              "      <td>5</td>\n",
              "      <td>are you sure you want to include this source f...</td>\n",
              "      <td>criticism</td>\n",
              "      <td>attitudes and emotions</td>\n",
              "    </tr>\n",
              "  </tbody>\n",
              "</table>\n",
              "</div>"
            ],
            "text/plain": [
              "   inline-comment-id  ...               New Label\n",
              "0  84326dd1_566c7146  ...                requests\n",
              "1  84326dd1_566c7146  ...  attitudes and emotions\n",
              "2  99d1f8e4_92b31cea  ...              suggestion\n",
              "3  193d089f_f5fac752  ...              suggestion\n",
              "4  50c2f81e_ac4fd6fc  ...  attitudes and emotions\n",
              "\n",
              "[5 rows x 5 columns]"
            ]
          },
          "metadata": {
            "tags": []
          },
          "execution_count": 49
        }
      ]
    },
    {
      "cell_type": "code",
      "metadata": {
        "colab": {
          "base_uri": "https://localhost:8080/"
        },
        "id": "Aa3NtXFlglNj",
        "outputId": "94419c89-fdf4-4e06-a64a-28aac54c4633"
      },
      "source": [
        "df['New Label'].value_counts()"
      ],
      "execution_count": null,
      "outputs": [
        {
          "output_type": "execute_result",
          "data": {
            "text/plain": [
              "requests                  272\n",
              "suggestion                163\n",
              "attitudes and emotions     45\n",
              "hypothetical scenario      13\n",
              "rhetorical question         6\n",
              "Name: New Label, dtype: int64"
            ]
          },
          "metadata": {
            "tags": []
          },
          "execution_count": 50
        }
      ]
    },
    {
      "cell_type": "code",
      "metadata": {
        "colab": {
          "base_uri": "https://localhost:8080/",
          "height": 533
        },
        "id": "mXiH5GcxjbjY",
        "outputId": "cf2ccfbc-dbdb-44db-fe20-e635c47beb46"
      },
      "source": [
        "# Plotting per label distribution\n",
        "import matplotlib.pyplot as plt\n",
        "\n",
        "plt.figure(figsize=(10,8))\n",
        "df['New Label'].value_counts().sort_values(ascending=False).plot(kind='bar')\n",
        "plt.ylabel('Number of Samples')\n",
        "plt.xlabel('Count')\n",
        "plt.title('NO. OF SAMPLES PER LABEL')\n",
        "plt.xticks(rotation = 10)\n",
        "plt.show()"
      ],
      "execution_count": null,
      "outputs": [
        {
          "output_type": "display_data",
          "data": {
            "image/png": "[encoded data removed]",
            "text/plain": [
              "<Figure size 720x576 with 1 Axes>"
            ]
          },
          "metadata": {
            "tags": [],
            "needs_background": "light"
          }
        }
      ]
    },
    {
      "cell_type": "markdown",
      "metadata": {
        "id": "Pp7NJPuAvuMa"
      },
      "source": [
        "APPROACH 1"
      ]
    },
    {
      "cell_type": "code",
      "metadata": {
        "id": "A8_eiCn6E2u7"
      },
      "source": [
        "df[\"Question Words\"] = df[\"Question\"]\n",
        "\n",
        "df['excl_marks'] =df['Question Words'].apply(lambda x: x.count('!'))\n",
        "df['qstn_marks'] = df['Question Words'].apply(lambda x: x.count('?'))\n",
        "df['puncts'] = df['Question Words'].apply(lambda x: sum(x.count(w) for w in '.,;:'))\n",
        "df['symbols'] = df['Question Words'].apply(lambda x: sum(x.count(w) for w in '*&$%-=()/_<>|#\"'))\n",
        "df[\"word_count\"] = df['Question Words'].apply(lambda x:len(x.split()))"
      ],
      "execution_count": null,
      "outputs": []
    },
    {
      "cell_type": "code",
      "metadata": {
        "colab": {
          "base_uri": "https://localhost:8080/"
        },
        "id": "w-rbUPueDoGE",
        "outputId": "16f1fec0-2fc4-4180-b38c-4c0789b1809c"
      },
      "source": [
        "import contractions\n",
        "\n",
        "for i in range(len(df)):\n",
        "  df[\"Question Words\"][i] = contractions.fix(df[\"Question\"][i])\n",
        "  df[\"Question Words\"][i] = text_to_word_sequence(df[\"Question Words\"][i])\n",
        "  df[\"Question Words\"][i] = [word for word in df[\"Question Words\"][i] if word.isalpha()]\n",
        "  table = str.maketrans('', '', string.punctuation)\n",
        "  df[\"Question Words\"][i] = [w.translate(table) for w in df[\"Question Words\"][i]]\n",
        "  df['Question Words'][i] = ' '.join(df['Question Words'][i])"
      ],
      "execution_count": null,
      "outputs": [
        {
          "output_type": "stream",
          "text": [
            "/usr/local/lib/python3.7/dist-packages/ipykernel_launcher.py:4: SettingWithCopyWarning: \n",
            "A value is trying to be set on a copy of a slice from a DataFrame\n",
            "\n",
            "See the caveats in the documentation: https://pandas.pydata.org/pandas-docs/stable/user_guide/indexing.html#returning-a-view-versus-a-copy\n",
            "  after removing the cwd from sys.path.\n",
            "/usr/local/lib/python3.7/dist-packages/ipykernel_launcher.py:5: SettingWithCopyWarning: \n",
            "A value is trying to be set on a copy of a slice from a DataFrame\n",
            "\n",
            "See the caveats in the documentation: https://pandas.pydata.org/pandas-docs/stable/user_guide/indexing.html#returning-a-view-versus-a-copy\n",
            "  \"\"\"\n",
            "/usr/local/lib/python3.7/dist-packages/ipykernel_launcher.py:6: SettingWithCopyWarning: \n",
            "A value is trying to be set on a copy of a slice from a DataFrame\n",
            "\n",
            "See the caveats in the documentation: https://pandas.pydata.org/pandas-docs/stable/user_guide/indexing.html#returning-a-view-versus-a-copy\n",
            "  \n",
            "/usr/local/lib/python3.7/dist-packages/ipykernel_launcher.py:8: SettingWithCopyWarning: \n",
            "A value is trying to be set on a copy of a slice from a DataFrame\n",
            "\n",
            "See the caveats in the documentation: https://pandas.pydata.org/pandas-docs/stable/user_guide/indexing.html#returning-a-view-versus-a-copy\n",
            "  \n",
            "/usr/local/lib/python3.7/dist-packages/ipykernel_launcher.py:9: SettingWithCopyWarning: \n",
            "A value is trying to be set on a copy of a slice from a DataFrame\n",
            "\n",
            "See the caveats in the documentation: https://pandas.pydata.org/pandas-docs/stable/user_guide/indexing.html#returning-a-view-versus-a-copy\n",
            "  if __name__ == '__main__':\n"
          ],
          "name": "stderr"
        }
      ]
    },
    {
      "cell_type": "code",
      "metadata": {
        "id": "rmMLlFVmhwQP"
      },
      "source": [
        "from sklearn.feature_extraction.text import TfidfVectorizer\n",
        "tfidf_question = TfidfVectorizer(min_df=5, stop_words='english')\n",
        "features_question = list(tfidf_question.fit_transform(df[\"Question Words\"]).toarray())\n",
        "features_excl_marks = list(df[\"excl_marks\"])\n",
        "features_qstn_marks = list(df[\"qstn_marks\"])\n",
        "features_word_count = list(df[\"word_count\"])\n",
        "features_symbols = list(df[\"symbols\"])\n",
        "features_puncts = list(df[\"puncts\"])"
      ],
      "execution_count": null,
      "outputs": []
    },
    {
      "cell_type": "code",
      "metadata": {
        "id": "Qf1L-fz16ru_"
      },
      "source": [
        "X_train_features = []\n",
        "for i,j in enumerate(features_question):\n",
        "  #temp1 = np.append(features_symbols[i],features_word_count[i])\n",
        "  temp2 = np.append(features_excl_marks[i],features_word_count[i])\n",
        "  temp3 = np.append(features_question[i],temp2)\n",
        "  X_train_features.append(temp3)\n",
        "X_train_features = np.array(X_train_features)"
      ],
      "execution_count": null,
      "outputs": []
    },
    {
      "cell_type": "code",
      "metadata": {
        "id": "PztffVi_v25g"
      },
      "source": [
        "from sklearn.model_selection import train_test_split\n",
        "X_train, X_test, Y_train, Y_test = train_test_split(X_train_features, df[\"New Label\"].values, test_size=0.1, random_state = 400)"
      ],
      "execution_count": null,
      "outputs": []
    },
    {
      "cell_type": "code",
      "metadata": {
        "colab": {
          "base_uri": "https://localhost:8080/"
        },
        "id": "_rRu8yQ0-_OJ",
        "outputId": "6209f58f-7d64-4e74-b97a-d4d5d78fc913"
      },
      "source": [
        "from sklearn.metrics import accuracy_score\n",
        "\n",
        "# linear SVM\n",
        "from sklearn import svm\n",
        "clf = svm.SVC(kernel='linear')\n",
        "clf.fit(X_train, Y_train)\n",
        "y_pred = clf.predict(X_test)\n",
        "print(\"Linear SVM : \",accuracy_score(Y_test, y_pred))\n",
        "\n",
        "# Random Forest Classifier\n",
        "from sklearn.ensemble import RandomForestClassifier\n",
        "classifier = RandomForestClassifier(random_state=1)\n",
        "classifier.fit(X_train, Y_train)\n",
        "y_pred = classifier.predict(X_test)\n",
        "print(\"Random Forest Classifier : \",accuracy_score(Y_test, y_pred))\n",
        " \n",
        "# Logistic Regression\n",
        "from sklearn.linear_model import LogisticRegression\n",
        "model = LogisticRegression(solver='liblinear', random_state=0)\n",
        "model.fit(X_train, Y_train)\n",
        "y_pred = model.predict(X_test)\n",
        "print(\"Logistic Regression : \",accuracy_score(Y_test, y_pred))"
      ],
      "execution_count": null,
      "outputs": [
        {
          "output_type": "stream",
          "text": [
            "Linear SVM :  0.76\n",
            "Random Forest Classifier :  0.76\n",
            "Logistic Regression :  0.72\n"
          ],
          "name": "stdout"
        }
      ]
    },
    {
      "cell_type": "markdown",
      "metadata": {
        "id": "WSH2WCQGwIJ-"
      },
      "source": [
        "APPROACH 2"
      ]
    },
    {
      "cell_type": "code",
      "metadata": {
        "id": "VveRnad6YRIQ"
      },
      "source": [
        "# Change to lowercase\n",
        "df['Question Words'] = df['Question'].map(lambda x: x.lower())\n",
        "\n",
        "# Remove numbers\n",
        "df['Question Words'] = df['Question Words'].map(lambda x: re.sub(r'\\d+', '', x))\n",
        "\n",
        "# Remove Punctuation\n",
        "df['excl_marks'] =df['Question Words'].apply(lambda x: x.count('!'))\n",
        "df['qstn_marks'] = df['Question Words'].apply(lambda x: x.count('?'))\n",
        "df['puncts'] = df['Question Words'].apply(lambda x: sum(x.count(w) for w in '.,;:'))\n",
        "df['symbols'] = df['Question Words'].apply(lambda x: sum(x.count(w) for w in '*&$%-=()/_<>|#\"'))\n",
        "df['Question Words']  = df['Question Words'].map(lambda x: x.translate(x.maketrans('', '', string.punctuation)))\n",
        "\n",
        "# Tokenize into words\n",
        "df['Question Words'] = df['Question Words'].map(lambda x: word_tokenize(x))\n",
        "\n",
        "# Word Lemmatization\n",
        "lem = WordNetLemmatizer()\n",
        "df['Question Words'] = df['Question Words'].map(lambda x: [lem.lemmatize(word) for word in x])\n",
        "\n",
        "# convert lists back to string\n",
        "df['Question Words'] = df['Question Words'].map(lambda x: ' '.join(x))\n",
        "\n",
        "df['word_count'] = df['Question Words'].apply(lambda x : len(x.split()))"
      ],
      "execution_count": null,
      "outputs": []
    },
    {
      "cell_type": "code",
      "metadata": {
        "id": "KUdXEgImz6ac"
      },
      "source": [
        "from sklearn.feature_extraction.text import TfidfVectorizer\n",
        "tfidf_question = TfidfVectorizer(min_df=5, stop_words='english')\n",
        "features_question = list(tfidf_question.fit_transform(df[\"Question Words\"]).toarray())\n",
        "features_excl_marks = list(df[\"excl_marks\"])\n",
        "features_qstn_marks = list(df[\"qstn_marks\"])\n",
        "features_word_count = list(df[\"word_count\"])\n",
        "features_symbols = list(df[\"symbols\"])\n",
        "features_puncts = list(df[\"puncts\"])"
      ],
      "execution_count": null,
      "outputs": []
    },
    {
      "cell_type": "code",
      "metadata": {
        "id": "SMDVA1-7z9QL"
      },
      "source": [
        "X_train_features = []\n",
        "for i,j in enumerate(features_question):\n",
        "  #temp1 = np.append(features_symbols[i],features_word_count[i])\n",
        "  temp2 = np.append(features_excl_marks[i],features_word_count[i])\n",
        "  temp3 = np.append(features_question[i],temp2)\n",
        "  X_train_features.append(temp3)\n",
        "X_train_features = np.array(X_train_features)"
      ],
      "execution_count": null,
      "outputs": []
    },
    {
      "cell_type": "code",
      "metadata": {
        "id": "3tbEkvGA0MG8"
      },
      "source": [
        "from sklearn.model_selection import train_test_split\n",
        "X_train, X_test, Y_train, Y_test = train_test_split(X_train_features, df[\"New Label\"].values, test_size=0.1, random_state = 400)"
      ],
      "execution_count": null,
      "outputs": []
    },
    {
      "cell_type": "code",
      "metadata": {
        "colab": {
          "base_uri": "https://localhost:8080/"
        },
        "id": "1WNNnfS6_Wlt",
        "outputId": "37290350-8dd7-4154-d5f6-cac7d0ca589b"
      },
      "source": [
        "from sklearn.metrics import accuracy_score\n",
        "\n",
        "# linear SVM\n",
        "from sklearn import svm\n",
        "clf = svm.SVC(kernel='linear')\n",
        "clf.fit(X_train, Y_train)\n",
        "y_pred = clf.predict(X_test)\n",
        "print(\"Linear SVM : \",accuracy_score(Y_test, y_pred))\n",
        "\n",
        "# Logistic Regression\n",
        "from sklearn.linear_model import LogisticRegression\n",
        "model = LogisticRegression(solver='liblinear', random_state=0)\n",
        "model.fit(X_train, Y_train)\n",
        "y_pred = model.predict(X_test)\n",
        "print(\"Logistic Regression : \",accuracy_score(Y_test, y_pred))\n",
        "\n",
        "# Random Forest Classifier\n",
        "from sklearn.ensemble import RandomForestClassifier\n",
        "classifier = RandomForestClassifier(random_state=400)\n",
        "classifier.fit(X_train, Y_train)\n",
        "y_pred = classifier.predict(X_test)\n",
        "print(\"Random Forest Classifier : \",accuracy_score(Y_test, y_pred))"
      ],
      "execution_count": null,
      "outputs": [
        {
          "output_type": "stream",
          "text": [
            "Linear SVM :  0.8\n",
            "Logistic Regression :  0.78\n",
            "Random Forest Classifier :  0.74\n"
          ],
          "name": "stdout"
        }
      ]
    }
  ]
}